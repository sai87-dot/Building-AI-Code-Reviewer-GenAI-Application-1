{
 "cells": [
  {
   "cell_type": "code",
   "execution_count": 1,
   "id": "63a12392",
   "metadata": {},
   "outputs": [
    {
     "name": "stdout",
     "output_type": "stream",
     "text": [
      "Defaulting to user installation because normal site-packages is not writeable\n",
      "Requirement already satisfied: streamlit in c:\\users\\bsai1\\appdata\\roaming\\python\\python311\\site-packages (1.38.0)\n",
      "Requirement already satisfied: openai in c:\\users\\bsai1\\appdata\\roaming\\python\\python311\\site-packages (1.54.5)\n",
      "Requirement already satisfied: altair<6,>=4.0 in c:\\users\\bsai1\\appdata\\roaming\\python\\python311\\site-packages (from streamlit) (5.4.1)\n",
      "Requirement already satisfied: blinker<2,>=1.0.0 in c:\\users\\bsai1\\appdata\\roaming\\python\\python311\\site-packages (from streamlit) (1.8.2)\n",
      "Requirement already satisfied: cachetools<6,>=4.0 in c:\\users\\bsai1\\appdata\\roaming\\python\\python311\\site-packages (from streamlit) (5.5.0)\n",
      "Requirement already satisfied: click<9,>=7.0 in c:\\programdata\\anaconda3\\new folder  anaconda\\lib\\site-packages (from streamlit) (8.0.4)\n",
      "Requirement already satisfied: numpy<3,>=1.20 in c:\\programdata\\anaconda3\\new folder  anaconda\\lib\\site-packages (from streamlit) (1.24.3)\n",
      "Requirement already satisfied: packaging<25,>=20 in c:\\programdata\\anaconda3\\new folder  anaconda\\lib\\site-packages (from streamlit) (23.1)\n",
      "Requirement already satisfied: pandas<3,>=1.3.0 in c:\\users\\bsai1\\appdata\\roaming\\python\\python311\\site-packages (from streamlit) (2.2.1)\n",
      "Requirement already satisfied: pillow<11,>=7.1.0 in c:\\programdata\\anaconda3\\new folder  anaconda\\lib\\site-packages (from streamlit) (9.4.0)\n",
      "Requirement already satisfied: protobuf<6,>=3.20 in c:\\users\\bsai1\\appdata\\roaming\\python\\python311\\site-packages (from streamlit) (4.25.3)\n",
      "Requirement already satisfied: pyarrow>=7.0 in c:\\programdata\\anaconda3\\new folder  anaconda\\lib\\site-packages (from streamlit) (11.0.0)\n",
      "Requirement already satisfied: requests<3,>=2.27 in c:\\programdata\\anaconda3\\new folder  anaconda\\lib\\site-packages (from streamlit) (2.31.0)\n",
      "Requirement already satisfied: rich<14,>=10.14.0 in c:\\users\\bsai1\\appdata\\roaming\\python\\python311\\site-packages (from streamlit) (13.7.1)\n",
      "Requirement already satisfied: tenacity<9,>=8.1.0 in c:\\programdata\\anaconda3\\new folder  anaconda\\lib\\site-packages (from streamlit) (8.2.2)\n",
      "Requirement already satisfied: toml<2,>=0.10.1 in c:\\programdata\\anaconda3\\new folder  anaconda\\lib\\site-packages (from streamlit) (0.10.2)\n",
      "Requirement already satisfied: typing-extensions<5,>=4.3.0 in c:\\users\\bsai1\\appdata\\roaming\\python\\python311\\site-packages (from streamlit) (4.12.2)\n",
      "Requirement already satisfied: gitpython!=3.1.19,<4,>=3.0.7 in c:\\users\\bsai1\\appdata\\roaming\\python\\python311\\site-packages (from streamlit) (3.1.43)\n",
      "Requirement already satisfied: pydeck<1,>=0.8.0b4 in c:\\users\\bsai1\\appdata\\roaming\\python\\python311\\site-packages (from streamlit) (0.9.1)\n",
      "Requirement already satisfied: tornado<7,>=6.0.3 in c:\\programdata\\anaconda3\\new folder  anaconda\\lib\\site-packages (from streamlit) (6.3.2)\n",
      "Requirement already satisfied: watchdog<5,>=2.1.5 in c:\\programdata\\anaconda3\\new folder  anaconda\\lib\\site-packages (from streamlit) (2.1.6)\n",
      "Requirement already satisfied: anyio<5,>=3.5.0 in c:\\programdata\\anaconda3\\new folder  anaconda\\lib\\site-packages (from openai) (3.5.0)\n",
      "Requirement already satisfied: distro<2,>=1.7.0 in c:\\users\\bsai1\\appdata\\roaming\\python\\python311\\site-packages (from openai) (1.9.0)\n",
      "Requirement already satisfied: httpx<1,>=0.23.0 in c:\\users\\bsai1\\appdata\\roaming\\python\\python311\\site-packages (from openai) (0.27.2)\n",
      "Requirement already satisfied: jiter<1,>=0.4.0 in c:\\users\\bsai1\\appdata\\roaming\\python\\python311\\site-packages (from openai) (0.7.1)\n",
      "Requirement already satisfied: pydantic<3,>=1.9.0 in c:\\users\\bsai1\\appdata\\roaming\\python\\python311\\site-packages (from openai) (2.8.2)\n",
      "Requirement already satisfied: sniffio in c:\\programdata\\anaconda3\\new folder  anaconda\\lib\\site-packages (from openai) (1.2.0)\n",
      "Requirement already satisfied: tqdm>4 in c:\\programdata\\anaconda3\\new folder  anaconda\\lib\\site-packages (from openai) (4.65.0)\n",
      "Requirement already satisfied: jinja2 in c:\\programdata\\anaconda3\\new folder  anaconda\\lib\\site-packages (from altair<6,>=4.0->streamlit) (3.1.2)\n",
      "Requirement already satisfied: jsonschema>=3.0 in c:\\programdata\\anaconda3\\new folder  anaconda\\lib\\site-packages (from altair<6,>=4.0->streamlit) (4.17.3)\n",
      "Requirement already satisfied: narwhals>=1.5.2 in c:\\users\\bsai1\\appdata\\roaming\\python\\python311\\site-packages (from altair<6,>=4.0->streamlit) (1.5.5)\n",
      "Requirement already satisfied: idna>=2.8 in c:\\programdata\\anaconda3\\new folder  anaconda\\lib\\site-packages (from anyio<5,>=3.5.0->openai) (3.4)\n",
      "Requirement already satisfied: colorama in c:\\programdata\\anaconda3\\new folder  anaconda\\lib\\site-packages (from click<9,>=7.0->streamlit) (0.4.6)\n",
      "Requirement already satisfied: gitdb<5,>=4.0.1 in c:\\users\\bsai1\\appdata\\roaming\\python\\python311\\site-packages (from gitpython!=3.1.19,<4,>=3.0.7->streamlit) (4.0.11)\n",
      "Requirement already satisfied: certifi in c:\\programdata\\anaconda3\\new folder  anaconda\\lib\\site-packages (from httpx<1,>=0.23.0->openai) (2023.7.22)\n",
      "Requirement already satisfied: httpcore==1.* in c:\\users\\bsai1\\appdata\\roaming\\python\\python311\\site-packages (from httpx<1,>=0.23.0->openai) (1.0.5)\n",
      "Requirement already satisfied: h11<0.15,>=0.13 in c:\\users\\bsai1\\appdata\\roaming\\python\\python311\\site-packages (from httpcore==1.*->httpx<1,>=0.23.0->openai) (0.14.0)\n",
      "Requirement already satisfied: python-dateutil>=2.8.2 in c:\\programdata\\anaconda3\\new folder  anaconda\\lib\\site-packages (from pandas<3,>=1.3.0->streamlit) (2.8.2)\n",
      "Requirement already satisfied: pytz>=2020.1 in c:\\programdata\\anaconda3\\new folder  anaconda\\lib\\site-packages (from pandas<3,>=1.3.0->streamlit) (2023.3.post1)\n",
      "Requirement already satisfied: tzdata>=2022.7 in c:\\programdata\\anaconda3\\new folder  anaconda\\lib\\site-packages (from pandas<3,>=1.3.0->streamlit) (2023.3)\n",
      "Requirement already satisfied: annotated-types>=0.4.0 in c:\\users\\bsai1\\appdata\\roaming\\python\\python311\\site-packages (from pydantic<3,>=1.9.0->openai) (0.7.0)\n",
      "Requirement already satisfied: pydantic-core==2.20.1 in c:\\users\\bsai1\\appdata\\roaming\\python\\python311\\site-packages (from pydantic<3,>=1.9.0->openai) (2.20.1)\n",
      "Requirement already satisfied: charset-normalizer<4,>=2 in c:\\programdata\\anaconda3\\new folder  anaconda\\lib\\site-packages (from requests<3,>=2.27->streamlit) (2.0.4)\n",
      "Requirement already satisfied: urllib3<3,>=1.21.1 in c:\\users\\bsai1\\appdata\\roaming\\python\\python311\\site-packages (from requests<3,>=2.27->streamlit) (2.2.2)\n",
      "Requirement already satisfied: markdown-it-py>=2.2.0 in c:\\programdata\\anaconda3\\new folder  anaconda\\lib\\site-packages (from rich<14,>=10.14.0->streamlit) (2.2.0)\n",
      "Requirement already satisfied: pygments<3.0.0,>=2.13.0 in c:\\programdata\\anaconda3\\new folder  anaconda\\lib\\site-packages (from rich<14,>=10.14.0->streamlit) (2.15.1)\n",
      "Requirement already satisfied: smmap<6,>=3.0.1 in c:\\users\\bsai1\\appdata\\roaming\\python\\python311\\site-packages (from gitdb<5,>=4.0.1->gitpython!=3.1.19,<4,>=3.0.7->streamlit) (5.0.1)\n",
      "Requirement already satisfied: MarkupSafe>=2.0 in c:\\programdata\\anaconda3\\new folder  anaconda\\lib\\site-packages (from jinja2->altair<6,>=4.0->streamlit) (2.1.1)\n",
      "Requirement already satisfied: attrs>=17.4.0 in c:\\programdata\\anaconda3\\new folder  anaconda\\lib\\site-packages (from jsonschema>=3.0->altair<6,>=4.0->streamlit) (22.1.0)\n",
      "Requirement already satisfied: pyrsistent!=0.17.0,!=0.17.1,!=0.17.2,>=0.14.0 in c:\\programdata\\anaconda3\\new folder  anaconda\\lib\\site-packages (from jsonschema>=3.0->altair<6,>=4.0->streamlit) (0.18.0)\n",
      "Requirement already satisfied: mdurl~=0.1 in c:\\programdata\\anaconda3\\new folder  anaconda\\lib\\site-packages (from markdown-it-py>=2.2.0->rich<14,>=10.14.0->streamlit) (0.1.0)\n",
      "Requirement already satisfied: six>=1.5 in c:\\programdata\\anaconda3\\new folder  anaconda\\lib\\site-packages (from python-dateutil>=2.8.2->pandas<3,>=1.3.0->streamlit) (1.16.0)\n",
      "Note: you may need to restart the kernel to use updated packages.\n"
     ]
    }
   ],
   "source": [
    "pip install streamlit openai\n"
   ]
  },
  {
   "cell_type": "code",
   "execution_count": 2,
   "id": "16d63234",
   "metadata": {},
   "outputs": [],
   "source": [
    "import streamlit as st\n",
    "import openai\n",
    "import difflib\n"
   ]
  },
  {
   "cell_type": "markdown",
   "id": "20831377",
   "metadata": {},
   "source": [
    "**Backend Logic**"
   ]
  },
  {
   "cell_type": "code",
   "execution_count": 3,
   "id": "e449a824",
   "metadata": {},
   "outputs": [],
   "source": [
    "# Function to send the code to the OpenAI API\n",
    "def analyze_code(code):\n",
    "    try:\n",
    "        response = openai.Completion.create(\n",
    "            engine=\"code-davinci-002\",\n",
    "            prompt=f\"Analyze the following Python code for bugs and suggest fixes:\\n{code}\",\n",
    "            max_tokens=1000\n",
    "        )\n",
    "        return response.choices[0].text.strip()\n",
    "    except Exception as e:\n",
    "        return str(e)\n",
    "\n",
    "# Function to highlight differences between original and fixed code\n",
    "def highlight_differences(original, fixed):\n",
    "    diff = difflib.unified_diff(\n",
    "        original.splitlines(), fixed.splitlines(), lineterm=\"\"\n",
    "    )\n",
    "    return \"\\n\".join(diff)\n"
   ]
  },
  {
   "cell_type": "markdown",
   "id": "32b09481",
   "metadata": {},
   "source": [
    "**Streamlit UI**"
   ]
  },
  {
   "cell_type": "code",
   "execution_count": 4,
   "id": "fd4f7058",
   "metadata": {},
   "outputs": [
    {
     "name": "stderr",
     "output_type": "stream",
     "text": [
      "2024-11-20 13:20:41.248 WARNING streamlit.runtime.scriptrunner_utils.script_run_context: Thread 'MainThread': missing ScriptRunContext! This warning can be ignored when running in bare mode.\n",
      "2024-11-20 13:20:42.140 \n",
      "  \u001b[33m\u001b[1mWarning:\u001b[0m to view this Streamlit app on a browser, run it with the following\n",
      "  command:\n",
      "\n",
      "    streamlit run C:\\ProgramData\\anaconda3\\new folder  anaconda\\Lib\\site-packages\\ipykernel_launcher.py [ARGUMENTS]\n",
      "2024-11-20 13:20:42.140 Thread 'MainThread': missing ScriptRunContext! This warning can be ignored when running in bare mode.\n",
      "2024-11-20 13:20:42.140 Thread 'MainThread': missing ScriptRunContext! This warning can be ignored when running in bare mode.\n",
      "2024-11-20 13:20:42.140 Thread 'MainThread': missing ScriptRunContext! This warning can be ignored when running in bare mode.\n",
      "2024-11-20 13:20:42.140 Thread 'MainThread': missing ScriptRunContext! This warning can be ignored when running in bare mode.\n",
      "2024-11-20 13:20:42.140 Thread 'MainThread': missing ScriptRunContext! This warning can be ignored when running in bare mode.\n",
      "2024-11-20 13:20:42.140 Thread 'MainThread': missing ScriptRunContext! This warning can be ignored when running in bare mode.\n",
      "2024-11-20 13:20:42.140 Session state does not function when running a script without `streamlit run`\n",
      "2024-11-20 13:20:42.151 Thread 'MainThread': missing ScriptRunContext! This warning can be ignored when running in bare mode.\n",
      "2024-11-20 13:20:42.152 Thread 'MainThread': missing ScriptRunContext! This warning can be ignored when running in bare mode.\n",
      "2024-11-20 13:20:42.153 Thread 'MainThread': missing ScriptRunContext! This warning can be ignored when running in bare mode.\n",
      "2024-11-20 13:20:42.153 Thread 'MainThread': missing ScriptRunContext! This warning can be ignored when running in bare mode.\n",
      "2024-11-20 13:20:42.156 Thread 'MainThread': missing ScriptRunContext! This warning can be ignored when running in bare mode.\n",
      "2024-11-20 13:20:42.156 Thread 'MainThread': missing ScriptRunContext! This warning can be ignored when running in bare mode.\n",
      "2024-11-20 13:20:42.156 Thread 'MainThread': missing ScriptRunContext! This warning can be ignored when running in bare mode.\n",
      "2024-11-20 13:20:42.156 Thread 'MainThread': missing ScriptRunContext! This warning can be ignored when running in bare mode.\n",
      "2024-11-20 13:20:42.156 Thread 'MainThread': missing ScriptRunContext! This warning can be ignored when running in bare mode.\n",
      "2024-11-20 13:20:42.156 Thread 'MainThread': missing ScriptRunContext! This warning can be ignored when running in bare mode.\n"
     ]
    }
   ],
   "source": [
    "# Streamlit code for UI\n",
    "st.title(\"GenAI App - AI Code Reviewer\")\n",
    "st.subheader(\"Submit your Python code for review and get detailed feedback.\")\n",
    "\n",
    "# Code input area\n",
    "code_input = st.text_area(\"Paste your Python code here\", height=300)\n",
    "\n",
    "# File uploader\n",
    "uploaded_file = st.file_uploader(\"Or upload a .py file\", type=\"py\")\n",
    "\n",
    "if st.button(\"Submit for Review\"):\n",
    "    if code_input or uploaded_file:\n",
    "        code = code_input or uploaded_file.read().decode()\n",
    "        analysis = analyze_code(code)\n",
    "        st.subheader(\"Bug Report and Suggestions\")\n",
    "        st.text(analysis)\n",
    "\n",
    "        # Simulate fixed code for demonstration\n",
    "        fixed_code = \"def example():\\n    return 'Fixed Code!'\"\n",
    "\n",
    "        st.subheader(\"Fixed Code\")\n",
    "        st.code(fixed_code, language='python')\n",
    "\n",
    "        st.subheader(\"Code Differences\")\n",
    "        differences = highlight_differences(code, fixed_code)\n",
    "        st.text(differences)\n",
    "\n",
    "        # Option to download the fixed code\n",
    "        st.download_button(\n",
    "            label=\"Download Fixed Code\",\n",
    "            data=fixed_code,\n",
    "            file_name=\"fixed_code.py\",\n",
    "            mime=\"text/x-python\"\n",
    "        )\n",
    "    else:\n",
    "        st.error(\"Please provide code input or upload a file.\")\n"
   ]
  },
  {
   "cell_type": "markdown",
   "id": "801dbfbf",
   "metadata": {},
   "source": [
    "**Run The App**"
   ]
  },
  {
   "cell_type": "code",
   "execution_count": 9,
   "id": "505d749a",
   "metadata": {},
   "outputs": [],
   "source": [
    "# Save the code into a file\n",
    "with open(\"app.py\", \"w\") as f:\n",
    "    f.write(\"\"\"streamlit run C:\\ProgramData\\anaconda3\\new folder  anaconda\\Lib\\site-packages\\ipykernel_launcher.py [ARGUMENTS]\n",
    "2024-11-20 13:20:42.140 Thread 'MainThread': missing ScriptRunContext! This warning can be ignored when running in bare mode.\n",
    "2024-11-20 13:20:42.140 Thread 'MainThread': missing ScriptRunContext! This warning can be ignored when running in bare mode.\n",
    "2024-11-20 13:20:42.140 Thread 'MainThread': missing ScriptRunContext! This warning can be ignored when running in bare mode.\n",
    "2024-11-20 13:20:42.140 Thread 'MainThread': missing ScriptRunContext! This warning can be ignored when running in bare mode.\n",
    "2024-11-20 13:20:42.140 Thread 'MainThread': missing ScriptRunContext! This warning can be ignored when running in bare mode.\n",
    "2024-11-20 13:20:42.140 Thread 'MainThread': missing ScriptRunContext! This warning can be ignored when running in bare mode.\n",
    "2024-11-20 13:20:42.140 Session state does not function when running a script without `streamlit run`\n",
    "2024-11-20 13:20:42.151 Thread 'MainThread': missing ScriptRunContext! This warning can be ignored when running in bare mode.\n",
    "2024-11-20 13:20:42.152 Thread 'MainThread': missing ScriptRunContext! This warning can be ignored when running in bare mode.\n",
    "2024-11-20 13:20:42.153 Thread 'MainThread': missing ScriptRunContext! This warning can be ignored when running in bare mode.\n",
    "2024-11-20 13:20:42.153 Thread 'MainThread': missing ScriptRunContext! This warning can be ignored when running in bare mode.\n",
    "2024-11-20 13:20:42.156 Thread 'MainThread': missing ScriptRunContext! This warning can be ignored when running in bare mode.\n",
    "2024-11-20 13:20:42.156 Thread 'MainThread': missing ScriptRunContext! This warning can be ignored when running in bare mode.\n",
    "2024-11-20 13:20:42.156 Thread 'MainThread': missing ScriptRunContext! This warning can be ignored when running in bare mode.\n",
    "2024-11-20 13:20:42.156 Thread 'MainThread': missing ScriptRunContext! This warning can be ignored when running in bare mode.\n",
    "2024-11-20 13:20:42.156 Thread 'MainThread': missing ScriptRunContext! This warning can be ignored when running in bare mode.\n",
    "2024-11-20 13:20:42.156 Thread 'MainThread': missing ScriptRunContext! This warning can be ignored when running in bare mode.\"\"\")\n"
   ]
  },
  {
   "cell_type": "code",
   "execution_count": 12,
   "id": "b232c5c0",
   "metadata": {},
   "outputs": [
    {
     "ename": "SyntaxError",
     "evalue": "invalid syntax (226060883.py, line 1)",
     "output_type": "error",
     "traceback": [
      "\u001b[1;36m  Cell \u001b[1;32mIn[12], line 1\u001b[1;36m\u001b[0m\n\u001b[1;33m    streamlit run f\u001b[0m\n\u001b[1;37m              ^\u001b[0m\n\u001b[1;31mSyntaxError\u001b[0m\u001b[1;31m:\u001b[0m invalid syntax\n"
     ]
    }
   ],
   "source": [
    "streamlit run app.py\n"
   ]
  },
  {
   "cell_type": "code",
   "execution_count": null,
   "id": "4de4cd71",
   "metadata": {},
   "outputs": [],
   "source": []
  }
 ],
 "metadata": {
  "kernelspec": {
   "display_name": "Python 3 (ipykernel)",
   "language": "python",
   "name": "python3"
  },
  "language_info": {
   "codemirror_mode": {
    "name": "ipython",
    "version": 3
   },
   "file_extension": ".py",
   "mimetype": "text/x-python",
   "name": "python",
   "nbconvert_exporter": "python",
   "pygments_lexer": "ipython3",
   "version": "3.11.5"
  }
 },
 "nbformat": 4,
 "nbformat_minor": 5
}
